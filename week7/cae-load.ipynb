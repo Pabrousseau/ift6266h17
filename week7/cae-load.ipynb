{
 "cells": [
  {
   "cell_type": "code",
   "execution_count": 1,
   "metadata": {
    "collapsed": false,
    "deletable": true,
    "editable": true
   },
   "outputs": [
    {
     "name": "stderr",
     "output_type": "stream",
     "text": [
      "WARNING (theano.sandbox.cuda): The cuda backend is deprecated and will be removed in the next release (v0.10).  Please switch to the gpuarray backend. You can get more information about how to switch at this URL:\n",
      " https://github.com/Theano/Theano/wiki/Converting-to-the-new-gpu-back-end%28gpuarray%29\n",
      "\n",
      "Using gpu device 0: GeForce GTX 750 Ti (CNMeM is disabled, cuDNN 5110)\n"
     ]
    }
   ],
   "source": [
    "from __future__ import division\n",
    "import sys\n",
    "import os\n",
    "import time\n",
    "import glob\n",
    "import PIL.Image as Image\n",
    "import numpy as np\n",
    "\n",
    "import theano\n",
    "import theano.tensor as T\n",
    "\n",
    "import lasagne\n",
    "#import lasagne.layers.dnn\n",
    "\n",
    "import Cae"
   ]
  },
  {
   "cell_type": "code",
   "execution_count": 2,
   "metadata": {
    "collapsed": true,
    "deletable": true,
    "editable": true
   },
   "outputs": [],
   "source": [
    "def im2ar(x):\n",
    "    y = [[[0]*len(x)]*len(x)]*3\n",
    "    y[0] = x[:,:,0]\n",
    "    y[1] = x[:,:,1]\n",
    "    y[2] = x[:,:,2]\n",
    "    return y\n",
    "\n",
    "def ar2im(x):\n",
    "    y = [[[0]*3]*len(x)]*len(x)\n",
    "    y[:,:,0] = x[0]*255 \n",
    "    y[:,:,1] = x[1]*255\n",
    "    y[:,:,2] = x[2]*255\n",
    "    return y"
   ]
  },
  {
   "cell_type": "code",
   "execution_count": 3,
   "metadata": {
    "collapsed": true,
    "deletable": true,
    "editable": true
   },
   "outputs": [],
   "source": [
    "def load_dataset_mscoco():\n",
    "    #Path\n",
    "    mscoco=\"/home/myuser/Documents/Lasagne/inpainting\"\n",
    "    split=\"train2014\"\n",
    "    data_path = os.path.join(mscoco, split)\n",
    "    imgs = glob.glob(data_path + \"/*.jpg\")\n",
    "    \n",
    "    X_train = []\n",
    "    y_train = []\n",
    "            \n",
    "    for i, img_path in enumerate(imgs):\n",
    "        img = Image.open(img_path)\n",
    "        img_array = np.divide(np.array(img,dtype='float32'),255)\n",
    "\n",
    "        if len(img_array.shape) == 3:\n",
    "            temp = np.copy(img_array)\n",
    "            input = np.copy(img_array)\n",
    "            input[16:48, 16:48,:] = 0\n",
    "            target = img_array[16:48, 16:48,:]\n",
    "        else:\n",
    "            input[:,:,0] = np.copy(img_array)\n",
    "            input[:,:,1] = np.copy(img_array)\n",
    "            input[:,:,2] = np.copy(img_array)\n",
    "            target = input[16:48, 16:48,:]\n",
    "            input[16:48, 16:48,:] = 0\n",
    "        \n",
    "        X_train.append(im2ar(input))\n",
    "        y_train.append(im2ar(target))\n",
    "    \n",
    "    split=\"val2014\"\n",
    "    data_path = os.path.join(mscoco, split)\n",
    "    imgs = glob.glob(data_path + \"/*.jpg\")\n",
    "    \n",
    "    X_val = []\n",
    "    y_val = []\n",
    "            \n",
    "    for i, img_path in enumerate(imgs):\n",
    "        img = Image.open(img_path)\n",
    "        img_array = np.divide(np.array(img,dtype='float32'),255)\n",
    "\n",
    "        if len(img_array.shape) == 3:\n",
    "            input = np.copy(img_array)\n",
    "            input[16:48, 16:48,:] = 0\n",
    "            target = img_array[16:48, 16:48,:]\n",
    "        else:\n",
    "            input[:,:,0] = np.copy(img_array)\n",
    "            input[:,:,1] = np.copy(img_array)\n",
    "            input[:,:,2] = np.copy(img_array)\n",
    "            target = input[16:48, 16:48,:]\n",
    "            input[16:48, 16:48,:] = 0\n",
    "        \n",
    "        X_val.append(im2ar(input))\n",
    "        y_val.append(im2ar(target))\n",
    "    \n",
    "    # We reserve the last 10000 training examples for testing.\n",
    "    X_val, X_test = X_val[:-10000], X_val[-10000:]\n",
    "    y_val, y_test = y_val[:-10000], y_val[-10000:]\n",
    "    \n",
    "    return (np.array(X_train),np.array(y_train),np.array(X_val),np.array(y_val),np.array(X_test),np.array(y_test))"
   ]
  },
  {
   "cell_type": "code",
   "execution_count": 4,
   "metadata": {
    "collapsed": true,
    "deletable": true,
    "editable": true
   },
   "outputs": [],
   "source": [
    "# Main\n",
    "def main():\n",
    "    \n",
    "    # Hyper Params\n",
    "    num_epochs = 100\n",
    "    learning_rate = 0.01\n",
    "    momentum = 0.975\n",
    "    batchsize = 200\n",
    "    \n",
    "    # Load the dataset\n",
    "    print(\"Loading data...\")\n",
    "    X_train, y_train, X_val, y_val, X_test, y_test = load_dataset_mscoco()\n",
    "    \n",
    "    # Prepare Theano variables for inputs and targets\n",
    "    inputVar = T.tensor4('inputs')\n",
    "    target_var = T.tensor4('targets')\n",
    "\n",
    "    # Build Network\n",
    "    #print(\"Building model and compiling functions...\")\n",
    "    network = Cae.build(inputVar)\n",
    "\n",
    "    # Training Loss expression\n",
    "    prediction = lasagne.layers.get_output(network)\n",
    "    loss = lasagne.objectives.squared_error(prediction, target_var)\n",
    "    loss = loss.mean()\n",
    "    # Add regularization lasagne.regularization.\n",
    "\n",
    "    # Update expressions \n",
    "    # Stochastic Gradient Descent (SGD) with Nesterov momentum\n",
    "    params = lasagne.layers.get_all_params(network, trainable=True)\n",
    "    updates = lasagne.updates.nesterov_momentum(loss, params, learning_rate, momentum)\n",
    "\n",
    "    # Test Loss expression\n",
    "    # 'Deterministic = True' disables droupout\n",
    "    test_prediction = lasagne.layers.get_output(network, deterministic=True)\n",
    "    test_loss = lasagne.objectives.squared_error(test_prediction,target_var)\n",
    "    test_loss = test_loss.mean()\n",
    "\n",
    "    # Train Function\n",
    "    train_fn = theano.function([inputVar, target_var], loss, updates=updates)\n",
    "\n",
    "    # Test Function\n",
    "    val_fn = theano.function([inputVar, target_var], test_loss)\n",
    "    \n",
    "   \n",
    "    #Load model\n",
    "    with np.load('cae-1000e.npz') as f:\n",
    "        param_values = [f['arr_%d' % i] for i in range(len(f.files))]\n",
    "    lasagne.layers.set_all_param_values(network, param_values)\n",
    "    \n",
    "    # Training Loss expression\n",
    "    prediction = lasagne.layers.get_output(network)\n",
    "    predict = theano.function([inputVar], prediction)\n",
    "    \n",
    "\n",
    "\n",
    "    #show net\n",
    "    #PrintLasagneNetInfo(network)\n",
    "    \n",
    "    # Show prediction\n",
    "    print(\"Predicting test set\")\n",
    "    Y = predict(X_test[0:100])\n",
    "    return (X_test[0:100],Y)"
   ]
  },
  {
   "cell_type": "code",
   "execution_count": 5,
   "metadata": {
    "collapsed": true,
    "deletable": true,
    "editable": true
   },
   "outputs": [],
   "source": [
    "def PrintLasagneNetInfo(lasagneNetwork): \n",
    "    import nolearn\n",
    "    import lasagne\n",
    "    nolearnNetwork = nolearn.lasagne.NeuralNet( \n",
    "          layers=lasagneNetwork, \n",
    "          update=lasagne.updates.adam, \n",
    "          objective_loss_function= lasagne.objectives.squared_error\n",
    "          ) \n",
    "    nolearnNetwork.initialize() \n",
    "    nolearn.lasagne.PrintLayerInfo()(nolearnNetwork)"
   ]
  },
  {
   "cell_type": "code",
   "execution_count": 6,
   "metadata": {
    "collapsed": false,
    "deletable": true,
    "editable": true
   },
   "outputs": [
    {
     "name": "stdout",
     "output_type": "stream",
     "text": [
      "Loading data...\n",
      "Network output: (None, 16, 56, 56)\n",
      "Network output: (None, 16, 28, 28)\n",
      "Network output: (None, 16, 26, 26)\n",
      "Network output: (None, 16, 13, 13)\n",
      "Network output: (None, 16, 14, 14)\n",
      "Network output: (None, 16, 28, 28)\n",
      "Network output: (None, 3, 32, 32)\n",
      "network params 11973059\n",
      "Predicting test set\n"
     ]
    }
   ],
   "source": [
    "X,Y=main()"
   ]
  },
  {
   "cell_type": "code",
   "execution_count": 7,
   "metadata": {
    "collapsed": false,
    "deletable": true,
    "editable": true
   },
   "outputs": [],
   "source": [
    "X[:,:,16:48,16:48]=Y[:,:,:,:]"
   ]
  },
  {
   "cell_type": "code",
   "execution_count": 8,
   "metadata": {
    "collapsed": false,
    "deletable": true,
    "editable": true
   },
   "outputs": [],
   "source": [
    "from PIL import Image\n",
    "im = Image.fromarray((X.reshape(10,10,3,64,64).transpose(1,3,0,4,2)*255).astype('uint8').reshape(10*64, 10*64,3))\n",
    "im.save(\"your_file4.jpeg\")"
   ]
  },
  {
   "cell_type": "code",
   "execution_count": null,
   "metadata": {
    "collapsed": true,
    "deletable": true,
    "editable": true
   },
   "outputs": [],
   "source": []
  }
 ],
 "metadata": {
  "kernelspec": {
   "display_name": "Python 3",
   "language": "python",
   "name": "python3"
  },
  "language_info": {
   "codemirror_mode": {
    "name": "ipython",
    "version": 3
   },
   "file_extension": ".py",
   "mimetype": "text/x-python",
   "name": "python",
   "nbconvert_exporter": "python",
   "pygments_lexer": "ipython3",
   "version": "3.6.0"
  }
 },
 "nbformat": 4,
 "nbformat_minor": 2
}
